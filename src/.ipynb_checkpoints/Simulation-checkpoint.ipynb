{
 "cells": [
  {
   "cell_type": "code",
   "execution_count": 36,
   "id": "17dec4d3",
   "metadata": {},
   "outputs": [],
   "source": [
    "from control import TransferFunction, tf, bode_plot, step_response\n",
    "import numpy as np\n",
    "from matplotlib.pyplot import plot, show\n",
    "%matplotlib inline"
   ]
  },
  {
   "cell_type": "code",
   "execution_count": 37,
   "id": "826ee248",
   "metadata": {},
   "outputs": [],
   "source": [
    "Kp = 3.0\n",
    "taup = 2.0\n",
    "\n",
    "s = TransferFunction.s\n",
    "H = (s+1)/ \n",
    "num = [Kp]\n",
    "den = [taup, 1]\n",
    "\n",
    "sys = tf(num, den)"
   ]
  },
  {
   "cell_type": "code",
   "execution_count": 35,
   "id": "2243bf50",
   "metadata": {},
   "outputs": [
    {
     "data": {
      "text/plain": [
       "[<matplotlib.lines.Line2D at 0x7f5b06921940>]"
      ]
     },
     "execution_count": 35,
     "metadata": {},
     "output_type": "execute_result"
    },
    {
     "data": {
      "image/png": "[encoded data removed]",
      "text/plain": [
       "<Figure size 432x288 with 1 Axes>"
      ]
     },
     "metadata": {
      "needs_background": "light"
     },
     "output_type": "display_data"
    }
   ],
   "source": [
    "t, out = step_response(sys)\n",
    "plot(out, t, 'r-')"
   ]
  },
  {
   "cell_type": "code",
   "execution_count": null,
   "id": "afd8e757",
   "metadata": {},
   "outputs": [],
   "source": []
  }
 ],
 "metadata": {
  "kernelspec": {
   "display_name": "Python 3",
   "language": "python",
   "name": "python3"
  },
  "language_info": {
   "codemirror_mode": {
    "name": "ipython",
    "version": 3
   },
   "file_extension": ".py",
   "mimetype": "text/x-python",
   "name": "python",
   "nbconvert_exporter": "python",
   "pygments_lexer": "ipython3",
   "version": "3.9.5"
  },
  "toc": {
   "base_numbering": 1,
   "nav_menu": {},
   "number_sections": false,
   "sideBar": true,
   "skip_h1_title": false,
   "title_cell": "Table of Contents",
   "title_sidebar": "Contents",
   "toc_cell": false,
   "toc_position": {},
   "toc_section_display": true,
   "toc_window_display": false
  }
 },
 "nbformat": 4,
 "nbformat_minor": 5
}
